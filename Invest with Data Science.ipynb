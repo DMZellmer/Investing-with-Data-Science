{
 "cells": [
  {
   "cell_type": "code",
   "execution_count": 1,
   "id": "4a1d3c75",
   "metadata": {},
   "outputs": [
    {
     "data": {
      "text/html": [
       "        <script type=\"text/javascript\">\n",
       "        window.PlotlyConfig = {MathJaxConfig: 'local'};\n",
       "        if (window.MathJax) {MathJax.Hub.Config({SVG: {font: \"STIX-Web\"}});}\n",
       "        if (typeof require !== 'undefined') {\n",
       "        require.undef(\"plotly\");\n",
       "        requirejs.config({\n",
       "            paths: {\n",
       "                'plotly': ['https://cdn.plot.ly/plotly-2.8.3.min']\n",
       "            }\n",
       "        });\n",
       "        require(['plotly'], function(Plotly) {\n",
       "            window._Plotly = Plotly;\n",
       "        });\n",
       "        }\n",
       "        </script>\n",
       "        "
      ]
     },
     "metadata": {},
     "output_type": "display_data"
    },
    {
     "data": {
      "text/html": [
       "        <script type=\"text/javascript\">\n",
       "        window.PlotlyConfig = {MathJaxConfig: 'local'};\n",
       "        if (window.MathJax) {MathJax.Hub.Config({SVG: {font: \"STIX-Web\"}});}\n",
       "        if (typeof require !== 'undefined') {\n",
       "        require.undef(\"plotly\");\n",
       "        requirejs.config({\n",
       "            paths: {\n",
       "                'plotly': ['https://cdn.plot.ly/plotly-2.8.3.min']\n",
       "            }\n",
       "        });\n",
       "        require(['plotly'], function(Plotly) {\n",
       "            window._Plotly = Plotly;\n",
       "        });\n",
       "        }\n",
       "        </script>\n",
       "        "
      ]
     },
     "metadata": {},
     "output_type": "display_data"
    }
   ],
   "source": [
    "# Provides ways to work with large multidimensional arrays\n",
    "import numpy as np \n",
    "# Allows for further data manipulation and analysis\n",
    "import pandas as pd \n",
    "import matplotlib.pyplot as plt # Plotting\n",
    "import matplotlib.dates as mdates # Styling dates\n",
    "%matplotlib inline\n",
    "\n",
    "import datetime as dt # For defining dates\n",
    "\n",
    "import time\n",
    "# In Powershell Prompt : conda install -c conda-forge multitasking\n",
    "# pip install -i https://pypi.anaconda.org/ranaroussi/simple yfinance\n",
    "\n",
    "import yfinance as yf\n",
    "\n",
    "# To show all your output File -> Preferences -> Settings Search for Notebook\n",
    "# Notebook Output Text Line Limit and set to 100\n",
    "\n",
    "# Used for file handling like deleting files\n",
    "import os\n",
    "\n",
    "# conda install -c conda-forge cufflinks-py\n",
    "# conda install -c plotly plotly\n",
    "import cufflinks as cf\n",
    "import plotly.express as px\n",
    "import plotly.graph_objects as go\n",
    "\n",
    "# Make Plotly work in your Jupyter Notebook\n",
    "from plotly.offline import download_plotlyjs, init_notebook_mode, plot, iplot\n",
    "init_notebook_mode(connected=True)\n",
    "# Use Plotly locally\n",
    "cf.go_offline()\n",
    "\n",
    "from plotly.subplots import make_subplots\n",
    "\n",
    "# New Imports\n",
    "# Used to get data from a directory\n",
    "\n",
    "from os import listdir\n",
    "from os.path import isfile, join\n",
    "\n",
    "import warnings\n",
    "warnings.simplefilter(\"ignore\")"
   ]
  },
  {
   "cell_type": "markdown",
   "id": "1b73dd3f",
   "metadata": {},
   "source": [
    "Constants"
   ]
  },
  {
   "cell_type": "code",
   "execution_count": 2,
   "id": "70e80642",
   "metadata": {},
   "outputs": [],
   "source": [
    "PATH = \"C:/Users/davez/Desktop/Investing with Data Science/\"\n",
    "S_DATE = \"2017-02-01\"\n",
    "E_DATE = \"2022-12-06\"\n",
    "S_DATE_DT = pd.to_datetime(S_DATE)\n",
    "E_DATE_DT = pd.to_datetime(E_DATE)\n"
   ]
  },
  {
   "cell_type": "markdown",
   "id": "6d9adc2c",
   "metadata": {},
   "source": [
    "Get Column Data from CSV"
   ]
  },
  {
   "cell_type": "code",
   "execution_count": 3,
   "id": "37c91630",
   "metadata": {},
   "outputs": [],
   "source": [
    "def get_column_from_csv(file, col_name):\n",
    "    # Try to get the file and if it doesnt exist issue a warning\n",
    "    try:\n",
    "        df = pd.read_csv(file)\n",
    "    except FileNotFoundError:\n",
    "        print(\"File Doesn't Exist\")\n",
    "    else:\n",
    "        return df[col_name]"
   ]
  },
  {
   "cell_type": "markdown",
   "id": "80629232",
   "metadata": {},
   "source": [
    "Get Stock Tickers"
   ]
  },
  {
   "cell_type": "code",
   "execution_count": 4,
   "id": "8ab2955e",
   "metadata": {},
   "outputs": [
    {
     "name": "stdout",
     "output_type": "stream",
     "text": [
      "3481\n",
      "0          A\n",
      "1         AA\n",
      "2        AAL\n",
      "3       AAME\n",
      "4        AAN\n",
      "        ... \n",
      "3476    ZUMZ\n",
      "3477     ZUO\n",
      "3478    ZYNE\n",
      "3479    ZYXI\n",
      "3480    ZNGA\n",
      "Name: Ticker, Length: 3481, dtype: object\n"
     ]
    }
   ],
   "source": [
    "tickers = get_column_from_csv(\"C:/Users/davez/Desktop/Investing with Data Science/Wilshire-5000-Stocks-New.csv\", \"Ticker\")\n",
    "print(len(tickers))\n",
    "print(tickers)"
   ]
  },
  {
   "cell_type": "markdown",
   "id": "ebe2ade3",
   "metadata": {},
   "source": [
    "Get Dataframe from CSV"
   ]
  },
  {
   "cell_type": "code",
   "execution_count": 5,
   "id": "f2779c15",
   "metadata": {},
   "outputs": [],
   "source": [
    "# Reads a dataframe from the CSV file, changes index to date and returns it\n",
    "def get_stock_df_from_csv(ticker):\n",
    "    \n",
    "    # Try to get the file and if it doesn't exist issue a warning\n",
    "    try:\n",
    "        df = pd.read_csv(PATH + ticker + '.csv', index_col=0)\n",
    "    except FileNotFoundError:\n",
    "        print(\"File Doesn't Exist\")\n",
    "    else:\n",
    "        return df"
   ]
  },
  {
   "cell_type": "code",
   "execution_count": 6,
   "id": "4b7affe6",
   "metadata": {},
   "outputs": [
    {
     "name": "stdout",
     "output_type": "stream",
     "text": [
      "0          A\n",
      "1         AA\n",
      "2        AAL\n",
      "3       AAME\n",
      "4        AAN\n",
      "        ... \n",
      "3476    ZUMZ\n",
      "3477     ZUO\n",
      "3478    ZYNE\n",
      "3479    ZYXI\n",
      "3480    ZNGA\n",
      "Name: Ticker, Length: 3481, dtype: object\n"
     ]
    }
   ],
   "source": [
    "print(tickers)"
   ]
  },
  {
   "cell_type": "code",
   "execution_count": 7,
   "id": "48d8cfd8",
   "metadata": {},
   "outputs": [
    {
     "data": {
      "text/plain": [
       "3262"
      ]
     },
     "execution_count": 7,
     "metadata": {},
     "output_type": "execute_result"
    }
   ],
   "source": [
    "\n",
    "files = [x for x in listdir(PATH) if isfile(join(PATH, x))]\n",
    "tickers = [os.path.splitext(x)[0] for x in files]\n",
    "tickers\n",
    "# tickers.remove('.ds_Store') MacOS Only\n",
    "tickers.sort()\n",
    "len(tickers)"
   ]
  },
  {
   "cell_type": "code",
   "execution_count": 8,
   "id": "262978d2",
   "metadata": {},
   "outputs": [],
   "source": [
    "# Add Daily Returns\n",
    "def add_daily_return_to_df(df):\n",
    "    df['daily_return'] = (df['Close'] / df['Close'].shift(1)) - 1\n",
    "    #df.to_csv(PATH + ticker + '.csv')\n",
    "    return df"
   ]
  },
  {
   "cell_type": "code",
   "execution_count": 9,
   "id": "b30aee2a",
   "metadata": {},
   "outputs": [],
   "source": [
    "# Add Cumulative Returns\n",
    "def add_cum_return_to_df(df):\n",
    "    df['cum_return'] = (1 + df['daily_return']).cumprod()\n",
    "    #df.to_csv(PATH + ticker + '.csv')\n",
    "    return df"
   ]
  },
  {
   "cell_type": "code",
   "execution_count": 10,
   "id": "f4c1a787",
   "metadata": {},
   "outputs": [],
   "source": [
    "# Add Bollinger Bands\n",
    "def add_bollinger_bands(df):\n",
    "    df['middle_band'] = df['Close'].rolling(window=20).mean()\n",
    "    df['upper_band'] = df['middle_band'] + 1.96 * df['Close'].rolling(window=20).std()\n",
    "    df['lower_band'] = df['middle_band'] - 1.96 * df['Close'].rolling(window=20).std()\n",
    "    # df.to_csv(PATH + ticker + '.csv')"
   ]
  },
  {
   "cell_type": "code",
   "execution_count": 11,
   "id": "f4cffebc",
   "metadata": {},
   "outputs": [],
   "source": [
    "# Add Ichimoku Data to Dataframe\n",
    "def add_Ichimoku(df):\n",
    "    # Conversion Line = (Highest value in period + Lowest value in period)/2 (9 sessions)\n",
    "    hi_val = df['High'].rolling(window=9).max()\n",
    "    low_val = df['Low'].rolling(window=9).min()\n",
    "    df['Conversion'] = (hi_val + low_val) / 2\n",
    "    \n",
    "    # Base Line = (Highest value in period + Lowest value in period)/2 (26 sessions)\n",
    "    hi_val2 = df['High'].rolling(window=26).max()\n",
    "    low_val2 = df['Low'].rolling(window=26).min()\n",
    "    df['Baseline'] = (hi_val2 + low_val2) / 2\n",
    "    \n",
    "    # Span A = (Conversion Value + Base Value)/2 (26 sessions)\n",
    "    df['SpanA'] = ((df['Conversion'] + df['Baseline']) / 2)\n",
    "    \n",
    "    # Span B = (Conversion Value + Base Value)/2 (52 sessions)\n",
    "    hi_val3 = df['High'].rolling(window=52).max()\n",
    "    low_val3 = df['Low'].rolling(window=52).min()\n",
    "    df['SpanB'] = ((hi_val3 + low_val3) / 2).shift(26)\n",
    "    \n",
    "    # Lagging Span = Price shifted back 26 periods\n",
    "    df['Lagging'] = df['Close'].shift(-26)\n",
    "    return df\n",
    "    # df.to_csv(PATH + ticker + '.csv')"
   ]
  },
  {
   "cell_type": "code",
   "execution_count": null,
   "id": "422d714d",
   "metadata": {},
   "outputs": [],
   "source": []
  },
  {
   "cell_type": "code",
   "execution_count": 12,
   "id": "151344d1",
   "metadata": {},
   "outputs": [
    {
     "name": "stdout",
     "output_type": "stream",
     "text": [
      "Working on : A\n",
      "'NoneType' object is not subscriptable\n"
     ]
    }
   ],
   "source": [
    "try:\n",
    "    print(\"Working on :\", \"A\")\n",
    "    new_df = get_stock_df_from_csv(\"A\")\n",
    "    new_df = add_daily_return_to_df(new_df)\n",
    "    new_df = add_cum_return_to_df(new_df)\n",
    "    new_df = add_bollinger_bands(new_df)\n",
    "    new_df = add_Ichimoku(new_df)\n",
    "    new_df.to_csv(PATH + 'A' + '.csv')\n",
    "except Exception as ex:\n",
    "    print(ex)"
   ]
  },
  {
   "cell_type": "code",
   "execution_count": 13,
   "id": "3e5e58cc",
   "metadata": {},
   "outputs": [
    {
     "ename": "TypeError",
     "evalue": "'NoneType' object is not subscriptable",
     "output_type": "error",
     "traceback": [
      "\u001b[1;31m---------------------------------------------------------------------------\u001b[0m",
      "\u001b[1;31mTypeError\u001b[0m                                 Traceback (most recent call last)",
      "\u001b[1;32m<ipython-input-13-2bebf69b9373>\u001b[0m in \u001b[0;36m<module>\u001b[1;34m\u001b[0m\n\u001b[1;32m----> 1\u001b[1;33m \u001b[0mnew_df\u001b[0m \u001b[1;33m=\u001b[0m \u001b[0madd_Ichimoku\u001b[0m\u001b[1;33m(\u001b[0m\u001b[0mnew_df\u001b[0m\u001b[1;33m)\u001b[0m\u001b[1;33m\u001b[0m\u001b[1;33m\u001b[0m\u001b[0m\n\u001b[0m",
      "\u001b[1;32m<ipython-input-11-fff4ca246a3c>\u001b[0m in \u001b[0;36madd_Ichimoku\u001b[1;34m(df)\u001b[0m\n\u001b[0;32m      2\u001b[0m \u001b[1;32mdef\u001b[0m \u001b[0madd_Ichimoku\u001b[0m\u001b[1;33m(\u001b[0m\u001b[0mdf\u001b[0m\u001b[1;33m)\u001b[0m\u001b[1;33m:\u001b[0m\u001b[1;33m\u001b[0m\u001b[1;33m\u001b[0m\u001b[0m\n\u001b[0;32m      3\u001b[0m     \u001b[1;31m# Conversion Line = (Highest value in period + Lowest value in period)/2 (9 sessions)\u001b[0m\u001b[1;33m\u001b[0m\u001b[1;33m\u001b[0m\u001b[1;33m\u001b[0m\u001b[0m\n\u001b[1;32m----> 4\u001b[1;33m     \u001b[0mhi_val\u001b[0m \u001b[1;33m=\u001b[0m \u001b[0mdf\u001b[0m\u001b[1;33m[\u001b[0m\u001b[1;34m'High'\u001b[0m\u001b[1;33m]\u001b[0m\u001b[1;33m.\u001b[0m\u001b[0mrolling\u001b[0m\u001b[1;33m(\u001b[0m\u001b[0mwindow\u001b[0m\u001b[1;33m=\u001b[0m\u001b[1;36m9\u001b[0m\u001b[1;33m)\u001b[0m\u001b[1;33m.\u001b[0m\u001b[0mmax\u001b[0m\u001b[1;33m(\u001b[0m\u001b[1;33m)\u001b[0m\u001b[1;33m\u001b[0m\u001b[1;33m\u001b[0m\u001b[0m\n\u001b[0m\u001b[0;32m      5\u001b[0m     \u001b[0mlow_val\u001b[0m \u001b[1;33m=\u001b[0m \u001b[0mdf\u001b[0m\u001b[1;33m[\u001b[0m\u001b[1;34m'Low'\u001b[0m\u001b[1;33m]\u001b[0m\u001b[1;33m.\u001b[0m\u001b[0mrolling\u001b[0m\u001b[1;33m(\u001b[0m\u001b[0mwindow\u001b[0m\u001b[1;33m=\u001b[0m\u001b[1;36m9\u001b[0m\u001b[1;33m)\u001b[0m\u001b[1;33m.\u001b[0m\u001b[0mmin\u001b[0m\u001b[1;33m(\u001b[0m\u001b[1;33m)\u001b[0m\u001b[1;33m\u001b[0m\u001b[1;33m\u001b[0m\u001b[0m\n\u001b[0;32m      6\u001b[0m     \u001b[0mdf\u001b[0m\u001b[1;33m[\u001b[0m\u001b[1;34m'Conversion'\u001b[0m\u001b[1;33m]\u001b[0m \u001b[1;33m=\u001b[0m \u001b[1;33m(\u001b[0m\u001b[0mhi_val\u001b[0m \u001b[1;33m+\u001b[0m \u001b[0mlow_val\u001b[0m\u001b[1;33m)\u001b[0m \u001b[1;33m/\u001b[0m \u001b[1;36m2\u001b[0m\u001b[1;33m\u001b[0m\u001b[1;33m\u001b[0m\u001b[0m\n",
      "\u001b[1;31mTypeError\u001b[0m: 'NoneType' object is not subscriptable"
     ]
    }
   ],
   "source": [
    " new_df = add_Ichimoku(new_df)"
   ]
  },
  {
   "cell_type": "code",
   "execution_count": null,
   "id": "ddfb6f5d",
   "metadata": {},
   "outputs": [],
   "source": []
  }
 ],
 "metadata": {
  "kernelspec": {
   "display_name": "PythonData",
   "language": "python",
   "name": "pythondata"
  },
  "language_info": {
   "codemirror_mode": {
    "name": "ipython",
    "version": 3
   },
   "file_extension": ".py",
   "mimetype": "text/x-python",
   "name": "python",
   "nbconvert_exporter": "python",
   "pygments_lexer": "ipython3",
   "version": "3.7.10"
  }
 },
 "nbformat": 4,
 "nbformat_minor": 5
}
